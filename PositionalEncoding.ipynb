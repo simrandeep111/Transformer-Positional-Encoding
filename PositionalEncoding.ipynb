{
  "nbformat": 4,
  "nbformat_minor": 0,
  "metadata": {
    "colab": {
      "provenance": []
    },
    "kernelspec": {
      "name": "python3",
      "display_name": "Python 3"
    },
    "language_info": {
      "name": "python"
    }
  },
  "cells": [
    {
      "cell_type": "code",
      "execution_count": 7,
      "metadata": {
        "id": "vN8e_IHwmsRp"
      },
      "outputs": [],
      "source": [
        "import math\n",
        "import torch\n",
        "import torch.nn as nn"
      ]
    },
    {
      "cell_type": "code",
      "source": [
        "class PositionalEncoding(nn.Module):\n",
        "    \"\"\"\n",
        "    Implements the sinusoidal positional encoding for transformer models.\n",
        "    \"\"\"\n",
        "\n",
        "    def __init__(self, d_model: int, max_len: int = 5000, dropout: float = 0.1):\n",
        "        \"\"\"\n",
        "        Args:\n",
        "            d_model: dimension of the embeddings\n",
        "            max_len: maximum length of input sequences\n",
        "            dropout: dropout probability to apply after adding positional encodings\n",
        "        \"\"\"\n",
        "        super().__init__()\n",
        "        self.dropout = nn.Dropout(p=dropout)\n",
        "\n",
        "        # Create a long enough P x D matrix\n",
        "        pe = torch.zeros(max_len, d_model)            # (max_len, d_model)\n",
        "        position = torch.arange(0, max_len).unsqueeze(1).float()  # (max_len, 1)\n",
        "        div_term = torch.exp(\n",
        "            torch.arange(0, d_model, 2).float() * (-math.log(10000.0) / d_model)\n",
        "        )\n",
        "\n",
        "        # Apply sin to even indices; cos to odd indices\n",
        "        pe[:, 0::2] = torch.sin(position * div_term)\n",
        "        pe[:, 1::2] = torch.cos(position * div_term)\n",
        "\n",
        "        self.register_buffer('pe', pe.unsqueeze(0))  # (1, max_len, d_model)\n",
        "    def forward(self, x: torch.Tensor) -> torch.Tensor:\n",
        "        \"\"\"\n",
        "        Args:\n",
        "            x: Tensor of shape (batch_size, seq_len, d_model)\n",
        "        Returns:\n",
        "            Tensor of same shape with positional encodings added.\n",
        "        \"\"\"\n",
        "        seq_len = x.size(1)\n",
        "        # Add positional encoding up to the input length\n",
        "        x = x + self.pe[:, :seq_len, :].to(x.dtype)\n",
        "        return self.dropout(x)"
      ],
      "metadata": {
        "id": "ZkNiPp9Mm2hM"
      },
      "execution_count": 14,
      "outputs": []
    },
    {
      "cell_type": "code",
      "source": [
        "if __name__ == \"__main__\":\n",
        "    batch_size, seq_len, d_model = 2, 10, 512\n",
        "    pe = PositionalEncoding(d_model=d_model, max_len=100)\n",
        "    sample_input = torch.zeros(batch_size, seq_len, d_model)\n",
        "    output = pe(sample_input)\n",
        "    print(output.shape)  # should be [2, 10, 512]"
      ],
      "metadata": {
        "colab": {
          "base_uri": "https://localhost:8080/"
        },
        "id": "hr3TqwzEm_GK",
        "outputId": "ec0d4572-5c3e-487b-8831-0a1db7cfda97"
      },
      "execution_count": 15,
      "outputs": [
        {
          "output_type": "stream",
          "name": "stdout",
          "text": [
            "torch.Size([2, 10, 512])\n"
          ]
        }
      ]
    },
    {
      "cell_type": "code",
      "source": [],
      "metadata": {
        "id": "pXT-iTgtnAxM"
      },
      "execution_count": null,
      "outputs": []
    }
  ]
}